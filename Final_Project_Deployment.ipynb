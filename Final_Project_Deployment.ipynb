{
  "cells": [
    {
      "cell_type": "markdown",
      "metadata": {
        "id": "view-in-github",
        "colab_type": "text"
      },
      "source": [
        "<a href=\"https://colab.research.google.com/github/RFOXgithub/Sistem-Rekomendasi-Pengelolaan-Produk/blob/main/Final_Project_Deployment.ipynb\" target=\"_parent\"><img src=\"https://colab.research.google.com/assets/colab-badge.svg\" alt=\"Open In Colab\"/></a>"
      ]
    },
    {
      "cell_type": "code",
      "execution_count": 1,
      "metadata": {
        "id": "6fl7TDBHSag9",
        "colab": {
          "base_uri": "https://localhost:8080/"
        },
        "outputId": "4fb15895-156e-44e2-f27f-360982607b12"
      },
      "outputs": [
        {
          "output_type": "stream",
          "name": "stdout",
          "text": [
            "\u001b[2K     \u001b[90m━━━━━━━━━━━━━━━━━━━━━━━━━━━━━━━━━━━━━━━━\u001b[0m \u001b[32m44.3/44.3 kB\u001b[0m \u001b[31m1.3 MB/s\u001b[0m eta \u001b[36m0:00:00\u001b[0m\n",
            "\u001b[2K   \u001b[90m━━━━━━━━━━━━━━━━━━━━━━━━━━━━━━━━━━━━━━━━\u001b[0m \u001b[32m9.1/9.1 MB\u001b[0m \u001b[31m29.5 MB/s\u001b[0m eta \u001b[36m0:00:00\u001b[0m\n",
            "\u001b[2K   \u001b[90m━━━━━━━━━━━━━━━━━━━━━━━━━━━━━━━━━━━━━━━━\u001b[0m \u001b[32m6.9/6.9 MB\u001b[0m \u001b[31m47.1 MB/s\u001b[0m eta \u001b[36m0:00:00\u001b[0m\n",
            "\u001b[2K   \u001b[90m━━━━━━━━━━━━━━━━━━━━━━━━━━━━━━━━━━━━━━━━\u001b[0m \u001b[32m79.1/79.1 kB\u001b[0m \u001b[31m4.1 MB/s\u001b[0m eta \u001b[36m0:00:00\u001b[0m\n",
            "\u001b[?25h"
          ]
        }
      ],
      "source": [
        "!pip install streamlit -q"
      ]
    },
    {
      "cell_type": "code",
      "execution_count": 3,
      "metadata": {
        "colab": {
          "base_uri": "https://localhost:8080/"
        },
        "id": "7lfYHxLzNcgF",
        "outputId": "d1347811-be19-4e65-a004-63d632d8d017"
      },
      "outputs": [
        {
          "output_type": "stream",
          "name": "stdout",
          "text": [
            "Writing app.py\n"
          ]
        }
      ],
      "source": [
        "%%writefile app.py\n",
        "import streamlit as st\n",
        "import pickle\n",
        "import pandas as pd\n",
        "import numpy as np\n",
        "\n",
        "# Load model\n",
        "with open('rf_modelStock.pkl', 'rb') as f:\n",
        "    rf_modelStock = pickle.load(f)\n",
        "\n",
        "with open('rf_modelPrice.pkl', 'rb') as f:\n",
        "    rf_modelPrice = pickle.load(f)\n",
        "\n",
        "with open('rf_modelPopu.pkl', 'rb') as f:\n",
        "    rf_modelPopu = pickle.load(f)\n",
        "\n",
        "# Kategori produk\n",
        "categories = [\n",
        "    'Elektronik', 'Lainnya', 'Perawatan Pribadi', 'Olahraga & Outdoor',\n",
        "    'Peralatan Rumah Tangga', 'Pakaian & Fashion', 'Kendaraan & Aksesori',\n",
        "    'Makanan & Minuman', 'Perhiasan & Aksesori', 'Mainan & Anak-Anak',\n",
        "    'Gadget & Elektronik Musik'\n",
        "]\n",
        "\n",
        "# Fungsi prediksi\n",
        "def prediction(df):\n",
        "    df['avg_harga_per_kategori'] = df.groupby('kategori')['harga'].transform('mean')\n",
        "    df['harga_per_rating'] = df['harga'] / (df['total_rating'] + 1)\n",
        "    df['harga_terjual'] = df['harga'] * df['terjual']\n",
        "    df['rasio_penjualan_stok'] = df['terjual'] / (df['stock'] + 1)\n",
        "    df['stok_terjual_ratio'] = df['stock'] / (df['terjual'] + 1)\n",
        "    df['stok_ideal'] = df['stok_terjual_ratio'] * df['stock']\n",
        "    df['stok_ideal'] = np.ceil(df['stok_ideal'])\n",
        "\n",
        "    df['harga_kategori_encoding'] = rf_modelPrice.predict(\n",
        "        df[['avg_harga_per_kategori', 'harga_per_rating', 'harga_terjual']]\n",
        "    )\n",
        "    df['restock_encoding'] = rf_modelStock.predict(\n",
        "        df[['stok_ideal', 'stok_terjual_ratio', 'rasio_penjualan_stok']]\n",
        "    )\n",
        "    df['popularitas_encoding'] = rf_modelPopu.predict(\n",
        "        df[['harga_per_rating', 'rasio_penjualan_stok', 'total_rating']]\n",
        "    )\n",
        "\n",
        "    harga_kategori_mapping = {0: 'Rendah', 1: 'Sedang', 2: 'Tinggi'}\n",
        "    restock_mapping = {1: 'Tidak Restock', 2: 'Restock', 0: 'Stok Berlebih'}\n",
        "    popularitas_mapping = {0: 'Tidak Populer', 1: 'Populer', 2: 'Sangat Populer'}\n",
        "\n",
        "    df['harga_kategori'] = df['harga_kategori_encoding'].map(harga_kategori_mapping)\n",
        "    df['restock'] = df['restock_encoding'].map(restock_mapping)\n",
        "    df['popularitas'] = df['popularitas_encoding'].map(popularitas_mapping)\n",
        "\n",
        "    def rekomendasi(row):\n",
        "        if row['restock'] == 'Restock':\n",
        "            return \"Segera lakukan restock produk ini.\"\n",
        "        elif row['harga_kategori'] == 'Tinggi' and row['popularitas'] == 'Sangat Populer':\n",
        "            return \"Lakukan promosi pada produk populer ini.\"\n",
        "        elif row['restock'] == 'Tidak Restock' and row['harga_kategori'] == 'Rendah':\n",
        "            return \"Evaluasi produk untuk diskon atau hapus dari katalog.\"\n",
        "        elif row['popularitas'] == 'Tidak Populer' and row['restock'] == 'Stok Berlebih':\n",
        "            return \"Tunda restock produk ini dan evaluasi penjualannya.\"\n",
        "        elif row['popularitas'] == 'Populer' and row['harga_kategori'] == 'Sedang':\n",
        "            return \"Pertahankan produk dengan harga dan popularitas saat ini.\"\n",
        "        else:\n",
        "            return \"Pertahankan strategi saat ini.\"\n",
        "\n",
        "    df['Rekomendasi'] = df.apply(rekomendasi, axis=1)\n",
        "    return df[['nama_produk', 'harga_kategori', 'restock', 'popularitas', 'Rekomendasi']]\n",
        "\n",
        "# Antarmuka Streamlit\n",
        "def main():\n",
        "    st.title(\"Sistem Rekomendasi Produk\")\n",
        "    st.markdown(\"\"\"\n",
        "    <div style=\"background-color:yellow;padding:13px\">\n",
        "    <h1 style=\"color:black; text-align:center;\">Aplikasi Analisis dan Rekomendasi Produk</h1>\n",
        "    </div>\n",
        "    \"\"\", unsafe_allow_html=True)\n",
        "\n",
        "    with st.form(key='my_form'):\n",
        "        nama_produk = st.text_input(\"Nama Produk\")\n",
        "        kategori = st.selectbox(\"Pilih Kategori\", categories)\n",
        "        harga = st.number_input(\"Harga\", min_value=0, step=1000)\n",
        "        total_rating = st.number_input(\"Total Rating\", min_value=0, step=1)\n",
        "        min_terjual = total_rating if total_rating > 0 else 0\n",
        "        terjual = st.number_input(\"Jumlah Terjual\", min_value=min_terjual, step=1)\n",
        "        stock = st.number_input(\"Stock\", min_value=0, step=1)\n",
        "\n",
        "        # Tombol submit form\n",
        "        submit_button = st.form_submit_button(label=\"Proses Rekomendasi\")\n",
        "\n",
        "    # Logika setelah tombol diklik\n",
        "    if submit_button:\n",
        "        kategori_index = categories.index(kategori) + 1  # Konversi ke indeks kategori numerik\n",
        "        data_input = {\n",
        "            'nama_produk': [nama_produk],\n",
        "            'kategori': [kategori_index],\n",
        "            'harga': [harga],\n",
        "            'total_rating': [total_rating],\n",
        "            'terjual': [terjual],\n",
        "            'stock': [stock]\n",
        "        }\n",
        "        df = pd.DataFrame(data_input)\n",
        "        hasil = prediction(df)\n",
        "        st.success(\"Berikut adalah hasil analisis produk:\")\n",
        "        st.dataframe(hasil)\n",
        "    else:\n",
        "        st.info(\"Isi form di atas dan tekan tombol 'Proses Rekomendasi' untuk melihat hasil analisis.\")\n",
        "\n",
        "if __name__ == '__main__':\n",
        "    main()\n"
      ]
    },
    {
      "cell_type": "code",
      "execution_count": 4,
      "metadata": {
        "colab": {
          "base_uri": "https://localhost:8080/"
        },
        "id": "h54VS-01N8aN",
        "outputId": "a8518c6b-82c0-4fe0-845e-5307cbfccc6a"
      },
      "outputs": [
        {
          "output_type": "stream",
          "name": "stdout",
          "text": [
            "34.106.67.148\n"
          ]
        }
      ],
      "source": [
        "!wget -q -O - ipv4.icanhazip.com"
      ]
    },
    {
      "cell_type": "code",
      "execution_count": null,
      "metadata": {
        "colab": {
          "base_uri": "https://localhost:8080/"
        },
        "id": "kpqsCzhSN-Id",
        "outputId": "34b00aa5-26f2-4e54-c520-ec4c29744ed4"
      },
      "outputs": [
        {
          "output_type": "stream",
          "name": "stdout",
          "text": [
            "\n",
            "Collecting usage statistics. To deactivate, set browser.gatherUsageStats to false.\n",
            "\u001b[0m\n",
            "\u001b[1G\u001b[0K⠙\u001b[1G\u001b[0K⠹\u001b[1G\u001b[0K⠸\u001b[0m\n",
            "\u001b[34m\u001b[1m  You can now view your Streamlit app in your browser.\u001b[0m\n",
            "\u001b[0m\n",
            "\u001b[34m  Local URL: \u001b[0m\u001b[1mhttp://localhost:8501\u001b[0m\n",
            "\u001b[34m  Network URL: \u001b[0m\u001b[1mhttp://172.28.0.12:8501\u001b[0m\n",
            "\u001b[34m  External URL: \u001b[0m\u001b[1mhttp://34.106.67.148:8501\u001b[0m\n",
            "\u001b[0m\n",
            "\u001b[1G\u001b[0K⠼\u001b[1G\u001b[0K⠴\u001b[1G\u001b[0K⠦\u001b[1G\u001b[0K\u001b[1G\u001b[0JNeed to install the following packages:\n",
            "localtunnel@2.0.2\n",
            "Ok to proceed? (y) \u001b[20Gy\n",
            "\n",
            "\u001b[1G\u001b[0K⠙\u001b[1G\u001b[0K⠹\u001b[1G\u001b[0K⠸\u001b[1G\u001b[0K⠼\u001b[1G\u001b[0K⠴\u001b[1G\u001b[0K⠦\u001b[1G\u001b[0K⠧\u001b[1G\u001b[0K⠇\u001b[1G\u001b[0K⠏\u001b[1G\u001b[0K⠋\u001b[1G\u001b[0K⠙\u001b[1G\u001b[0K⠹\u001b[1G\u001b[0K⠸\u001b[1G\u001b[0K⠼\u001b[1G\u001b[0K⠴\u001b[1G\u001b[0K⠦\u001b[1G\u001b[0K⠧\u001b[1G\u001b[0K⠇\u001b[1G\u001b[0K⠏\u001b[1G\u001b[0K⠋\u001b[1G\u001b[0K⠙\u001b[1G\u001b[0K⠹\u001b[1G\u001b[0K⠸\u001b[1G\u001b[0K⠼\u001b[1G\u001b[0K⠴\u001b[1G\u001b[0K⠦\u001b[1G\u001b[0K⠧\u001b[1G\u001b[0K⠇\u001b[1G\u001b[0K⠏\u001b[1G\u001b[0K⠋\u001b[1G\u001b[0K⠙\u001b[1G\u001b[0Kyour url is: https://early-bananas-share.loca.lt\n",
            "/usr/local/lib/python3.10/dist-packages/sklearn/base.py:376: InconsistentVersionWarning: Trying to unpickle estimator DecisionTreeClassifier from version 1.4.2 when using version 1.5.2. This might lead to breaking code or invalid results. Use at your own risk. For more info please refer to:\n",
            "https://scikit-learn.org/stable/model_persistence.html#security-maintainability-limitations\n",
            "  warnings.warn(\n",
            "/usr/local/lib/python3.10/dist-packages/sklearn/base.py:376: InconsistentVersionWarning: Trying to unpickle estimator RandomForestClassifier from version 1.4.2 when using version 1.5.2. This might lead to breaking code or invalid results. Use at your own risk. For more info please refer to:\n",
            "https://scikit-learn.org/stable/model_persistence.html#security-maintainability-limitations\n",
            "  warnings.warn(\n",
            "/usr/local/lib/python3.10/dist-packages/sklearn/base.py:376: InconsistentVersionWarning: Trying to unpickle estimator DecisionTreeClassifier from version 1.4.2 when using version 1.5.2. This might lead to breaking code or invalid results. Use at your own risk. For more info please refer to:\n",
            "https://scikit-learn.org/stable/model_persistence.html#security-maintainability-limitations\n",
            "  warnings.warn(\n",
            "/usr/local/lib/python3.10/dist-packages/sklearn/base.py:376: InconsistentVersionWarning: Trying to unpickle estimator RandomForestClassifier from version 1.4.2 when using version 1.5.2. This might lead to breaking code or invalid results. Use at your own risk. For more info please refer to:\n",
            "https://scikit-learn.org/stable/model_persistence.html#security-maintainability-limitations\n",
            "  warnings.warn(\n",
            "/usr/local/lib/python3.10/dist-packages/sklearn/base.py:376: InconsistentVersionWarning: Trying to unpickle estimator DecisionTreeClassifier from version 1.4.2 when using version 1.5.2. This might lead to breaking code or invalid results. Use at your own risk. For more info please refer to:\n",
            "https://scikit-learn.org/stable/model_persistence.html#security-maintainability-limitations\n",
            "  warnings.warn(\n",
            "/usr/local/lib/python3.10/dist-packages/sklearn/base.py:376: InconsistentVersionWarning: Trying to unpickle estimator RandomForestClassifier from version 1.4.2 when using version 1.5.2. This might lead to breaking code or invalid results. Use at your own risk. For more info please refer to:\n",
            "https://scikit-learn.org/stable/model_persistence.html#security-maintainability-limitations\n",
            "  warnings.warn(\n",
            "/usr/local/lib/python3.10/dist-packages/sklearn/base.py:376: InconsistentVersionWarning: Trying to unpickle estimator DecisionTreeClassifier from version 1.4.2 when using version 1.5.2. This might lead to breaking code or invalid results. Use at your own risk. For more info please refer to:\n",
            "https://scikit-learn.org/stable/model_persistence.html#security-maintainability-limitations\n",
            "  warnings.warn(\n",
            "/usr/local/lib/python3.10/dist-packages/sklearn/base.py:376: InconsistentVersionWarning: Trying to unpickle estimator RandomForestClassifier from version 1.4.2 when using version 1.5.2. This might lead to breaking code or invalid results. Use at your own risk. For more info please refer to:\n",
            "https://scikit-learn.org/stable/model_persistence.html#security-maintainability-limitations\n",
            "  warnings.warn(\n",
            "/usr/local/lib/python3.10/dist-packages/sklearn/base.py:376: InconsistentVersionWarning: Trying to unpickle estimator DecisionTreeClassifier from version 1.4.2 when using version 1.5.2. This might lead to breaking code or invalid results. Use at your own risk. For more info please refer to:\n",
            "https://scikit-learn.org/stable/model_persistence.html#security-maintainability-limitations\n",
            "  warnings.warn(\n",
            "/usr/local/lib/python3.10/dist-packages/sklearn/base.py:376: InconsistentVersionWarning: Trying to unpickle estimator RandomForestClassifier from version 1.4.2 when using version 1.5.2. This might lead to breaking code or invalid results. Use at your own risk. For more info please refer to:\n",
            "https://scikit-learn.org/stable/model_persistence.html#security-maintainability-limitations\n",
            "  warnings.warn(\n",
            "/usr/local/lib/python3.10/dist-packages/sklearn/base.py:376: InconsistentVersionWarning: Trying to unpickle estimator DecisionTreeClassifier from version 1.4.2 when using version 1.5.2. This might lead to breaking code or invalid results. Use at your own risk. For more info please refer to:\n",
            "https://scikit-learn.org/stable/model_persistence.html#security-maintainability-limitations\n",
            "  warnings.warn(\n",
            "/usr/local/lib/python3.10/dist-packages/sklearn/base.py:376: InconsistentVersionWarning: Trying to unpickle estimator RandomForestClassifier from version 1.4.2 when using version 1.5.2. This might lead to breaking code or invalid results. Use at your own risk. For more info please refer to:\n",
            "https://scikit-learn.org/stable/model_persistence.html#security-maintainability-limitations\n",
            "  warnings.warn(\n"
          ]
        }
      ],
      "source": [
        "!streamlit run app.py & npx localtunnel --port 8501"
      ]
    }
  ],
  "metadata": {
    "colab": {
      "provenance": [],
      "authorship_tag": "ABX9TyNPJGGxc0HKjaoBJYhl7A+r",
      "include_colab_link": true
    },
    "kernelspec": {
      "display_name": "Python 3",
      "name": "python3"
    },
    "language_info": {
      "name": "python"
    }
  },
  "nbformat": 4,
  "nbformat_minor": 0
}